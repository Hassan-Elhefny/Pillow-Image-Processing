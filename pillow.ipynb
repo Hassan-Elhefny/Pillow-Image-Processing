{
 "cells": [
  {
   "cell_type": "code",
   "execution_count": 28,
   "metadata": {},
   "outputs": [],
   "source": [
    "from PIL import Image, ImageFilter, ImageDraw"
   ]
  },
  {
   "cell_type": "code",
   "execution_count": 8,
   "metadata": {},
   "outputs": [
    {
     "name": "stdout",
     "output_type": "stream",
     "text": [
      "Image Format JPEG,\t Image Size (1920, 1281),\t Image Mode RGB\n"
     ]
    }
   ],
   "source": [
    "#open image and print all information about the image\n",
    "im = Image.open('image.jpg')\n",
    "im.show()\n",
    "print(\"Image Format {},\\t Image Size {},\\t Image Mode {}\".format(im.format, im.size, im.mode))"
   ]
  },
  {
   "cell_type": "code",
   "execution_count": 15,
   "metadata": {},
   "outputs": [],
   "source": [
    "#apply blured filter\n",
    "original_image = Image.open('even_green.jpg')\n",
    "gaussian_blured_image = original_image.filter(ImageFilter.GaussianBlur)\n",
    "blured_image = original_image.filter(ImageFilter.BLUR)\n",
    "#show gaussian blured image\n",
    "gaussian_blured_image.show()\n",
    "#show blured image\n",
    "blured_image.show()\n",
    "#show original image\n",
    "original_image.show()"
   ]
  },
  {
   "cell_type": "code",
   "execution_count": 16,
   "metadata": {},
   "outputs": [],
   "source": [
    "#save any image after preprocessing\n",
    "gaussian_blured_image.save('gaussian_blured_filter_aplied.jpg')"
   ]
  },
  {
   "cell_type": "code",
   "execution_count": 17,
   "metadata": {},
   "outputs": [],
   "source": [
    "#apply thumbnails or resize for image\n",
    "image = Image.open(\"even_green.jpg\")\n",
    "target_size = (256,256)\n",
    "try:\n",
    "    image.thumbnail(size=target_size) #or use image.resize(target_size)\n",
    "    image.show()\n",
    "except:\n",
    "    print(\"unapple to resize the image\")"
   ]
  },
  {
   "cell_type": "code",
   "execution_count": 19,
   "metadata": {},
   "outputs": [],
   "source": [
    "#convert to gray scale image\n",
    "original_image = Image.open('even_green.jpg')\n",
    "gray_scaled_image = original_image.convert('L') # L mean gray scale\n",
    "gray_scaled_image.show()"
   ]
  },
  {
   "cell_type": "code",
   "execution_count": 20,
   "metadata": {},
   "outputs": [],
   "source": [
    "#apply find edges filter\n",
    "original_image = Image.open('even_green.jpg')\n",
    "filtered_image = original_image.filter(ImageFilter.FIND_EDGES)\n",
    "filtered_image.show()"
   ]
  },
  {
   "cell_type": "code",
   "execution_count": 21,
   "metadata": {},
   "outputs": [],
   "source": [
    "#apply find Edge Enhanced\n",
    "original_image = Image.open('even_green.jpg')\n",
    "filtered_image = original_image.filter(ImageFilter.EDGE_ENHANCE)\n",
    "filtered_image.show()"
   ]
  },
  {
   "cell_type": "code",
   "execution_count": 22,
   "metadata": {},
   "outputs": [],
   "source": [
    "#apply find contour\n",
    "original_image = Image.open('even_green.jpg')\n",
    "filtered_image = original_image.filter(ImageFilter.CONTOUR)\n",
    "filtered_image.show()"
   ]
  },
  {
   "cell_type": "code",
   "execution_count": 23,
   "metadata": {},
   "outputs": [],
   "source": [
    "#apply find sharpen\n",
    "original_image = Image.open('even_green.jpg')\n",
    "filtered_image = original_image.filter(ImageFilter.SHARPEN)\n",
    "filtered_image.show()"
   ]
  },
  {
   "cell_type": "code",
   "execution_count": 24,
   "metadata": {},
   "outputs": [],
   "source": [
    "#there are a lot of filters like:\n",
    "#Blur\n",
    "#contour\n",
    "#edge_enhanced\n",
    "#edge_enhanced_more\n",
    "#emboss\n",
    "#find_edges\n",
    "#smooth\n",
    "#smooth_more\n",
    "#sharpen"
   ]
  },
  {
   "cell_type": "code",
   "execution_count": 27,
   "metadata": {},
   "outputs": [],
   "source": [
    "#crop the image\n",
    "original_image = Image.open('even_green.jpg')\n",
    "cropped_image = original_image.crop((0,0,650,850)) #(x1, y1, x2, y2)\n",
    "cropped_image.show()"
   ]
  },
  {
   "cell_type": "code",
   "execution_count": 31,
   "metadata": {},
   "outputs": [],
   "source": [
    "#draw 2 lines on the image\n",
    "original_image = Image.open('even_green.jpg')\n",
    "draw_image = ImageDraw.Draw(original_image)\n",
    "draw_image.line((0,0) + original_image.size, fill=(255,0,255))\n",
    "draw_image.line((0,original_image.size[1], original_image.size[0], 0), fill=(0,255,255))\n",
    "original_image.show()"
   ]
  },
  {
   "cell_type": "code",
   "execution_count": 34,
   "metadata": {},
   "outputs": [],
   "source": [
    "#draw text on the image\n",
    "original_image = Image.open('even_green.jpg')\n",
    "draw_image = ImageDraw.Draw(original_image)\n",
    "draw_image.text((original_image.size[0]/2 - original_image.size[1]/2, original_image.size[1]/2), text=\"Hassan Reda Elhefny\" ,fill=(255,255,255))\n",
    "original_image.show()"
   ]
  },
  {
   "cell_type": "code",
   "execution_count": 35,
   "metadata": {},
   "outputs": [],
   "source": [
    "#rotate\n",
    "original_image = Image.open('even_green.jpg')\n",
    "rotated_image = original_image.rotate(90)\n",
    "rotated_image.show()"
   ]
  },
  {
   "cell_type": "code",
   "execution_count": 38,
   "metadata": {},
   "outputs": [],
   "source": [
    "#transpose\n",
    "original_image = Image.open('even_green.jpg')\n",
    "transposed_image = original_image.transpose(method=Image.FLIP_LEFT_RIGHT)\n",
    "transposed_image.show()"
   ]
  },
  {
   "cell_type": "code",
   "execution_count": 39,
   "metadata": {},
   "outputs": [],
   "source": [
    "#There are alot of transpose like:\n",
    "#flip left right\n",
    "#flip top bottom\n",
    "#rotate 90\n",
    "#rotate 180\n",
    "#rotate 270\n",
    "#transpose"
   ]
  }
 ],
 "metadata": {
  "kernelspec": {
   "display_name": "Python 3.9.12 ('base')",
   "language": "python",
   "name": "python3"
  },
  "language_info": {
   "codemirror_mode": {
    "name": "ipython",
    "version": 3
   },
   "file_extension": ".py",
   "mimetype": "text/x-python",
   "name": "python",
   "nbconvert_exporter": "python",
   "pygments_lexer": "ipython3",
   "version": "3.9.12"
  },
  "orig_nbformat": 4,
  "vscode": {
   "interpreter": {
    "hash": "64bc2431556ddb93600416b1e010991e709a1748a37f9a800cbf227570b9e496"
   }
  }
 },
 "nbformat": 4,
 "nbformat_minor": 2
}
